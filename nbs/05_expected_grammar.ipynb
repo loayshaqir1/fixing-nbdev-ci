{
 "cells": [
  {
   "cell_type": "markdown",
   "metadata": {},
   "source": [
    "# Expected Grammar\n",
    "\n",
    "> This module contains structures that will help the developer assert that the ast he received matches the grammar\n",
    "that he expects to work with.\n",
    "\n",
    ">These asserts are useful as a general safety check, and also for finding places in the code that need to change\n",
    "should the rgxlog grammar be changed."
   ]
  },
  {
   "cell_type": "code",
   "execution_count": null,
   "metadata": {},
   "outputs": [],
   "source": [
    "#| default_exp src.rgxlog_interpreter.src.rgxlog.engine.utils.expected_grammar"
   ]
  },
  {
   "cell_type": "code",
   "execution_count": null,
   "metadata": {},
   "outputs": [],
   "source": [
    "#| hide\n",
    "from nbdev.showdoc import *"
   ]
  },
  {
   "cell_type": "code",
   "execution_count": null,
   "metadata": {},
   "outputs": [],
   "source": [
    "#| export\n",
    "from typing import Sequence, Dict"
   ]
  },
  {
   "cell_type": "markdown",
   "metadata": {},
   "source": [
    "for every node in the ast, the following structure contains a list of its expected children nodes names.\n",
    "\n",
    "note that some nodes can have multiple kinds of children (e.g. assignment), for this reason each node is mapped\n",
    "to a list of lists, where each of the internal lists is a valid list of children names for the node. this means\n",
    "that in order to check if a node has an expected children list, one needs to check that this children list\n",
    "matches one of the lists for this type of node in this structure.\n",
    "\n",
    "note that some nodes in rgxlog can have varying lengths of children lists and therefore are not included in this\n",
    "structure (e.g. term_list).\n",
    "\n",
    "##############\n",
    "#a proposed strategy for making changes to the rgxlog grammar:\n",
    "##############\n",
    "1. in your code, wherever you expect to receive an ast rgxlog node that still retains its original structure,\n",
    "assert that it has the correct structure using this dict.\n",
    "\n",
    "2. make a change to the grammar\n",
    "\n",
    "3. run some rgxlog program, try to make it varied so it contains many different statements, and see where your\n",
    "program crashes because of a failed expected node structure assertion.\n",
    "wherever the program crashes, make changes to the code if any are needed so the code will work\n",
    "using your new grammar, and temporarily comment the assertion for the correct node structure. repeat this step\n",
    "until the program no longer crashes.\n",
    "\n",
    "4. uncomment the assertion that you commented in step 3\n",
    "\n",
    "5. change the 'rgxlog_expected_children_names_lists' to match your new grammar\n",
    "\n",
    "for an example on how to use this structure, see lark_passes_utils.assert_expected_node_structure."
   ]
  },
  {
   "cell_type": "code",
   "execution_count": null,
   "metadata": {},
   "outputs": [],
   "source": [
    "#| export\n",
    "rgxlog_expected_children_names_lists: Dict[str, Sequence] = {\n",
    "\n",
    "    'assignment': [\n",
    "        ['var_name', 'string'],\n",
    "        ['var_name', 'integer'],\n",
    "        ['var_name', 'span'],\n",
    "        ['var_name', 'var_name'],\n",
    "    ],\n",
    "\n",
    "    'read_assignment': [\n",
    "        ['var_name', 'string'],\n",
    "        ['var_name', 'var_name']\n",
    "    ],\n",
    "\n",
    "    'relation_declaration': [['relation_name', 'decl_term_list']],\n",
    "\n",
    "    'rule': [['rule_head', 'rule_body_relation_list']],\n",
    "\n",
    "    'rule_head': [['relation_name', 'free_var_name_list']],\n",
    "\n",
    "    'relation': [['relation_name', 'term_list']],\n",
    "\n",
    "    'ie_relation': [['relation_name', 'term_list', 'term_list']],\n",
    "\n",
    "    'query': [['relation_name', 'term_list']],\n",
    "\n",
    "    'add_fact': [['relation_name', 'const_term_list']],\n",
    "\n",
    "    'remove_fact': [['relation_name', 'const_term_list']],\n",
    "\n",
    "    'span': [\n",
    "        ['integer', 'integer'],\n",
    "        []  # allow empty list to support spans that were converted a datatypes.Span instance\n",
    "    ],\n",
    "\n",
    "    'integer': [[]],\n",
    "\n",
    "    'string': [[]],\n",
    "\n",
    "    'relation_name': [[]],\n",
    "\n",
    "    'var_name': [[]],\n",
    "\n",
    "    'free_var_name': [[]]\n",
    "}"
   ]
  }
 ],
 "metadata": {
  "kernelspec": {
   "display_name": "python3",
   "language": "python",
   "name": "python3"
  }
 },
 "nbformat": 4,
 "nbformat_minor": 4
}
