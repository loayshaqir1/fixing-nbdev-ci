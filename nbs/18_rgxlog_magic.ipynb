{
 "cells": [
  {
   "cell_type": "markdown",
   "metadata": {},
   "source": [
    "# Rgxlog Magic"
   ]
  },
  {
   "cell_type": "code",
   "execution_count": null,
   "metadata": {},
   "outputs": [],
   "source": [
    "#| default_exp src.rgxlog_interpreter.src.rgxlog.magic.rgxlog_magic"
   ]
  },
  {
   "cell_type": "code",
   "execution_count": null,
   "metadata": {},
   "outputs": [],
   "source": [
    "#| hide\n",
    "from nbdev.showdoc import *"
   ]
  },
  {
   "cell_type": "code",
   "execution_count": null,
   "metadata": {},
   "outputs": [],
   "source": [
    "#| hide\n",
    "from typing import Optional\n",
    "\n",
    "from IPython.core.magic import (Magics, magics_class, line_cell_magic)"
   ]
  },
  {
   "cell_type": "code",
   "execution_count": null,
   "metadata": {},
   "outputs": [],
   "source": [
    "#| hide\n",
    "@magics_class\n",
    "class RgxlogMagic(Magics):\n",
    "    @line_cell_magic\n",
    "    def rgxlog(self, line: str, cell: Optional[str] = None) -> None:\n",
    "        # import locally to prevent circular import issues\n",
    "        from rgxlog import magic_session\n",
    "\n",
    "        if cell:\n",
    "            magic_session.run_commands(cell, print_results=True)\n",
    "        else:\n",
    "            magic_session.run_commands(line, print_results=True)\n"
   ]
  },
  {
   "cell_type": "code",
   "execution_count": null,
   "metadata": {},
   "outputs": [],
   "source": []
  }
 ],
 "metadata": {
  "kernelspec": {
   "display_name": "python3",
   "language": "python",
   "name": "python3"
  }
 },
 "nbformat": 4,
 "nbformat_minor": 4
}
